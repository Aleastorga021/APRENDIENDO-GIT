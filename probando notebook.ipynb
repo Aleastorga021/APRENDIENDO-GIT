{
    "cells": [
        {
            "cell_type": "markdown",
            "metadata": {},
            "source": "DATOS ALEATORIOS"
        },
        {
            "cell_type": "code",
            "execution_count": 2,
            "metadata": {},
            "outputs": [
                {
                    "data": {
                        "text/html": "<div>\n<style scoped>\n    .dataframe tbody tr th:only-of-type {\n        vertical-align: middle;\n    }\n\n    .dataframe tbody tr th {\n        vertical-align: top;\n    }\n\n    .dataframe thead th {\n        text-align: right;\n    }\n</style>\n<table border=\"1\" class=\"dataframe\">\n  <thead>\n    <tr style=\"text-align: right;\">\n      <th></th>\n      <th>Unnamed: 0</th>\n      <th>Unnamed: 1</th>\n      <th>Unnamed: 2</th>\n      <th>Unnamed: 3</th>\n      <th>Unnamed: 4</th>\n      <th>Unnamed: 5</th>\n      <th>Unnamed: 6</th>\n    </tr>\n  </thead>\n  <tbody>\n    <tr>\n      <th>0</th>\n      <td>NaN</td>\n      <td>A</td>\n      <td>B</td>\n      <td>C</td>\n      <td>D</td>\n      <td>E</td>\n      <td>F</td>\n    </tr>\n    <tr>\n      <th>1</th>\n      <td>NaN</td>\n      <td>0.334049</td>\n      <td>0.658156</td>\n      <td>0.155693</td>\n      <td>0.686354</td>\n      <td>0.607361</td>\n      <td>0.327722</td>\n    </tr>\n    <tr>\n      <th>2</th>\n      <td>NaN</td>\n      <td>0.362466</td>\n      <td>0.601741</td>\n      <td>0.976793</td>\n      <td>0.12183</td>\n      <td>0.455084</td>\n      <td>0.346714</td>\n    </tr>\n    <tr>\n      <th>3</th>\n      <td>NaN</td>\n      <td>0.112904</td>\n      <td>0.196786</td>\n      <td>0.432125</td>\n      <td>0.448605</td>\n      <td>0.502882</td>\n      <td>0.313789</td>\n    </tr>\n    <tr>\n      <th>4</th>\n      <td>NaN</td>\n      <td>0.185258</td>\n      <td>0.547969</td>\n      <td>0.291058</td>\n      <td>0.376272</td>\n      <td>0.743209</td>\n      <td>0.299683</td>\n    </tr>\n  </tbody>\n</table>\n</div>",
                        "text/plain": "   Unnamed: 0 Unnamed: 1 Unnamed: 2 Unnamed: 3 Unnamed: 4 Unnamed: 5  \\\n0         NaN          A          B          C          D          E   \n1         NaN   0.334049   0.658156   0.155693   0.686354   0.607361   \n2         NaN   0.362466   0.601741   0.976793    0.12183   0.455084   \n3         NaN   0.112904   0.196786   0.432125   0.448605   0.502882   \n4         NaN   0.185258   0.547969   0.291058   0.376272   0.743209   \n\n  Unnamed: 6  \n0          F  \n1   0.327722  \n2   0.346714  \n3   0.313789  \n4   0.299683  "
                    },
                    "execution_count": 2,
                    "metadata": {},
                    "output_type": "execute_result"
                }
            ],
            "source": "# The code was removed by Watson Studio for sharing."
        },
        {
            "cell_type": "code",
            "execution_count": null,
            "metadata": {},
            "outputs": [],
            "source": ""
        }
    ],
    "metadata": {
        "kernelspec": {
            "display_name": "Python 3.9",
            "language": "python",
            "name": "python3"
        },
        "language_info": {
            "codemirror_mode": {
                "name": "ipython",
                "version": 3
            },
            "file_extension": ".py",
            "mimetype": "text/x-python",
            "name": "python",
            "nbconvert_exporter": "python",
            "pygments_lexer": "ipython3",
            "version": "3.9.12"
        }
    },
    "nbformat": 4,
    "nbformat_minor": 1
}